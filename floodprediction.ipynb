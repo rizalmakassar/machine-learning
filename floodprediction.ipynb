import numpy as np
import pandas as pd
from sklearn.preprocessing import MinMaxScaler
from sklearn.model_selection import train_test_split
from sklearn.metrics import accuracy_score, precision_score, recall_score, f1_score
from sklearn.svm import SVC
import random
from scipy.stats import levy

class QOBLBWO:
    def __init__(self, n_whales=30, max_iter=100, b0=0.9, dimensions=None):
        self.n_whales = n_whales
        self.max_iter = max_iter
        self.b0 = b0
        self.dimensions = dimensions
        self.best_solution = None
        self.best_fitness = float('inf')
        
    def initialize_population(self, low, high):
        return np.random.uniform(low, high, (self.n_whales, self.dimensions))
    
    def calculate_quasi_opposite(self, x, low, high):
        h = (low + high) / 2
        if x < h:
            return h + (x - h) * random.random()
        else:
            return x + (h - x) * random.random()
    
    def apply_qobl(self, population, low, high):
        quasi_opposite = np.zeros_like(population)
        for i in range(len(population)):
            for j in range(self.dimensions):
                quasi_opposite[i,j] = self.calculate_quasi_opposite(population[i,j], low, high)
        return quasi_opposite
    
    def levy_flight(self):
        return levy.rvs(size=self.dimensions)
    
    def calculate_balancing_factor(self, t):
        return self.b0 * (1 - t/(2*self.max_iter))
    
    def update_position(self, current_pos, best_pos, bf):
        if bf > 0.5:  # Exploration phase
            r1, r2 = random.random(), random.random()
            if random.random() > 0.5:
                return current_pos + (best_pos - current_pos)*(1 + r1)*np.sin(2*np.pi*r2)
            else:
                return current_pos + (best_pos - current_pos)*(1 + r1)*np.cos(2*np.pi*r2)
        else:  # Exploitation phase
            r3, r4 = random.random(), random.random()
            levy = self.levy_flight()
            c1 = 2*r4*(1 - self.current_iter/self.max_iter)
            return r3*best_pos - r4*current_pos + c1*levy*(best_pos - current_pos)
    
    def fit(self, X, y, low=-1, high=1):
        self.dimensions = X.shape[1]
        population = self.initialize_population(low, high)
        
        for iter in range(self.max_iter):
            self.current_iter = iter
            
            # Apply QOBL
            quasi_opposite = self.apply_qobl(population, low, high)
            population = np.vstack([population, quasi_opposite])
            
            # Evaluate fitness for all solutions
            fitness = np.zeros(len(population))
            for i in range(len(population)):
                # Create binary mask for feature selection
                mask = population[i] > 0
                if np.sum(mask) == 0:
                    fitness[i] = float('inf')
                    continue
                    
                # Train SVM with selected features
                X_selected = X[:, mask]
                svm = SVC(kernel='rbf')
                try:
                    svm.fit(X_selected, y)
                    fitness[i] = 1 - svm.score(X_selected, y) + 0.01*(np.sum(mask)/len(mask))
                except:
                    fitness[i] = float('inf')
            
            # Update best solution
            min_fitness_idx = np.argmin(fitness)
            if fitness[min_fitness_idx] < self.best_fitness:
                self.best_fitness = fitness[min_fitness_idx]
                self.best_solution = population[min_fitness_idx]
            
            # Select best solutions for next iteration
            sorted_idx = np.argsort(fitness)
            population = population[sorted_idx[:self.n_whales]]
            
            # Update positions
            bf = self.calculate_balancing_factor(iter)
            for i in range(self.n_whales):
                population[i] = self.update_position(population[i], self.best_solution, bf)
                population[i] = np.clip(population[i], low, high)
        
        return self

class FloodPredictionModel:
    def __init__(self):
        self.scaler = MinMaxScaler()
        self.feature_selector = QOBLBWO()
        self.classifier = SVC(kernel='rbf')
        self.selected_features = None
        
    def preprocess_data(self, X):
        return self.scaler.fit_transform(X)
    
    def fit(self, X, y):
        # Preprocess data
        X_scaled = self.preprocess_data(X)
        
        # Feature selection using QOBL-BWO
        self.feature_selector.fit(X_scaled, y)
        self.selected_features = self.feature_selector.best_solution > 0
        
        # Train classifier with selected features
        X_selected = X_scaled[:, self.selected_features]
        self.classifier.fit(X_selected, y)
        
        return self
    
    def predict(self, X):
        X_scaled = self.scaler.transform(X)
        X_selected = X_scaled[:, self.selected_features]
        return self.classifier.predict(X_selected)
    
    def evaluate(self, X, y):
        y_pred = self.predict(X)
        return {
            'accuracy': accuracy_score(y, y_pred),
            'precision': precision_score(y, y_pred),
            'recall': recall_score(y, y_pred),
            'f1_score': f1_score(y, y_pred)
        }

# Example usage:
if __name__ == "__main__":
    # Load data
    df = pd.read_csv('dataset-lengkap-flood.csv')
    
    # Prepare features and target
    X = df[['Rainfall', 'Water Level', 'Tides', 'Temperature', 'Humidity']].values
    # Example threshold for flood classification (adjust based on your needs)
    y = (df['Water Level'] > 2.5).astype(int)
    
    # Split data
    X_train, X_test, y_train, y_test = train_test_split(X, y, test_size=0.2, random_state=42)
    
    # Train model
    model = FloodPredictionModel()
    model.fit(X_train, y_train)
    
    # Evaluate model
    results = model.evaluate(X_test, y_test)
    print("Model Performance:")
    for metric, value in results.items():
        print(f"{metric}: {value:.4f}")
    
    # Print selected features
    feature_names = ['Rainfall', 'Water Level', 'Tides', 'Temperature', 'Humidity']
    selected_features = [feature_names[i] for i in range(len(feature_names)) if model.selected_features[i]]
    print("\nSelected Features:", selected_features)