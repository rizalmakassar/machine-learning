import numpy as np
import matplotlib.pyplot as plt
from mpl_toolkits.mplot3d import Axes3D


np.random.seed(42)

# Pre-test data (blue)
perceived_risk_pre = np.random.uniform(2, 5, 50)
confidence_pre = np.random.uniform(2, 6, 50)
test_phase_pre = np.ones(50)  # Pre-test phase (z = 1)

# Post-test data (red)
perceived_risk_post = np.random.uniform(3.5, 5.5, 50)
confidence_post = np.random.uniform(3.5, 5.5, 50)
test_phase_post = np.ones(50) * 2  # Post-test phase (z = 2)

# Create figure
fig = plt.figure(figsize=(8, 6))
ax = fig.add_subplot(111, projection='3d')

# Plot pre-test (blue)
ax.scatter(perceived_risk_pre, confidence_pre, test_phase_pre, color='blue', label='Pre-Test (Blue)')

# Plot post-test (red)
ax.scatter(perceived_risk_post, confidence_post, test_phase_post, color='red', label='Post-Test (Red)')

# Labels and title
ax.set_xlabel('Perceived Flood Risk (1-5)')
ax.set_ylabel('Confidence in Decision-Making (1-5)')
ax.set_zlabel('Test Phase (1=Pre, 2=Post)')
ax.legend()
plt.show()
